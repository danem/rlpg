{
 "cells": [
  {
   "cell_type": "code",
   "execution_count": 151,
   "metadata": {},
   "outputs": [
    {
     "name": "stdout",
     "output_type": "stream",
     "text": [
      "The autoreload extension is already loaded. To reload it, use:\n",
      "  %reload_ext autoreload\n"
     ]
    }
   ],
   "source": [
    "%load_ext autoreload\n",
    "%autoreload 2\n",
    "\n",
    "import rlpg.envs.cars as cars\n",
    "import rlpg.models.vae as vae\n",
    "import rlpg.envs.types as rl_envs\n",
    "import rlpg.models.common as models\n",
    "import rlpg.utils as rl_utils\n",
    "import rlpg.loaders as rl_loaders\n",
    "\n",
    "import gymnasium as gym\n",
    "import torchvision.transforms.functional as ttf\n",
    "import torchvision.transforms as tt\n",
    "\n",
    "import os\n",
    "import matplotlib.pyplot as plt\n",
    "import torch.utils.tensorboard\n",
    "import numpy as np\n",
    "import utils\n",
    "from typing import Tuple, List\n",
    "import pathlib\n",
    "import tqdm\n",
    "import random\n",
    "import lightning\n",
    "from PIL import Image"
   ]
  },
  {
   "cell_type": "code",
   "execution_count": 121,
   "metadata": {},
   "outputs": [],
   "source": [
    "def generate_vae_images (\n",
    "    out_dir: str, \n",
    "    episodes: int, \n",
    "    max_episode_steps: int, \n",
    "    size: Tuple[int, int],\n",
    "    agressive_odds: float = 0.95,\n",
    "    skip_start_odds: float = 0.1,\n",
    "    include_bar: bool = False,\n",
    "    grayscale: bool = False\n",
    "):\n",
    "    out_dir = pathlib.Path(out_dir)\n",
    "    out_dir.mkdir(exist_ok=True, parents=True)\n",
    "\n",
    "    img_idx = 0\n",
    "\n",
    "    renderopts = None\n",
    "    if not include_bar:\n",
    "        renderopts = rl_envs.RenderOptions(size, color=not grayscale, crop_size=(1, 0.87))\n",
    "    else:\n",
    "        renderopts = rl_envs.RenderOptions(size, color= not grayscale)\n",
    "    \n",
    "    env, _, _ = cars.car_basic(skip_start=True)\n",
    "    for i in tqdm.tqdm(range(episodes)):\n",
    "        env.reset()\n",
    "        ep_step = 0\n",
    "        skip_start = random.random() < skip_start_odds\n",
    "        agressive = random.random() > agressive_odds\n",
    "        while True:\n",
    "            action = env.action_space.sample()\n",
    "            action[2] = 0.0\n",
    "            if agressive:\n",
    "                action *= 5\n",
    "            obs, _, terminated, _, _ = env.step(action)\n",
    "            if terminated or ep_step > max_episode_steps:\n",
    "                break\n",
    "            ep_step += 1\n",
    "\n",
    "            if skip_start and ep_step < 40:\n",
    "                continue\n",
    "            \n",
    "            img = rl_envs.apply_renderopts(obs, renderopts)\n",
    "            img.save(out_dir / f\"img{img_idx}.png\")\n",
    "            img_idx += 1"
   ]
  },
  {
   "cell_type": "code",
   "execution_count": 122,
   "metadata": {},
   "outputs": [],
   "source": [
    "class VAEModule2D (lightning.LightningModule):\n",
    "    def __init__(self, img_w, img_h, n_channels, hidden_size, latent_dims) -> None:\n",
    "        super().__init__()\n",
    "        self.model = vae.VariationalAutoencoder2D(\n",
    "            img_w=img_w,\n",
    "            img_h=img_h,\n",
    "            in_channels=n_channels,\n",
    "            hidden_size=hidden_size,\n",
    "            latent_dims=latent_dims\n",
    "        )\n",
    "        self.latent_dims = latent_dims\n",
    "        self.save_hyperparameters()\n",
    "    \n",
    "    def forward (self, x):\n",
    "        x = x.to(self.device)\n",
    "        return self.model(x)\n",
    "    \n",
    "    def training_step(self, batch, batch_idx):\n",
    "        x = batch\n",
    "        x = x.to(self.device)\n",
    "        xhat, kl = self.model(x)\n",
    "        loss = torch.nn.functional.mse_loss(xhat, x) #+ kl\n",
    "\n",
    "        self.log(\"train_loss\", loss)\n",
    "        return loss\n",
    "    \n",
    "    def configure_optimizers(self):\n",
    "        optimizer = torch.optim.Adam(self.parameters(), lr=1e-3)\n",
    "        return optimizer\n"
   ]
  },
  {
   "cell_type": "code",
   "execution_count": 152,
   "metadata": {},
   "outputs": [
    {
     "name": "stderr",
     "output_type": "stream",
     "text": [
      "100%|██████████| 200/200 [06:27<00:00,  1.94s/it]\n",
      "GPU available: True (mps), used: True\n",
      "TPU available: False, using: 0 TPU cores\n",
      "IPU available: False, using: 0 IPUs\n",
      "HPU available: False, using: 0 HPUs\n",
      "\n",
      "  | Name  | Type                     | Params\n",
      "---------------------------------------------------\n",
      "0 | model | VariationalAutoencoder2D | 1.3 M \n",
      "---------------------------------------------------\n",
      "1.3 M     Trainable params\n",
      "0         Non-trainable params\n",
      "1.3 M     Total params\n",
      "5.093     Total estimated model params size (MB)\n"
     ]
    },
    {
     "name": "stdout",
     "output_type": "stream",
     "text": [
      "Training VAE with 56494 images\n"
     ]
    },
    {
     "data": {
      "application/vnd.jupyter.widget-view+json": {
       "model_id": "d97beb1439264bbba083c373cb9e0598",
       "version_major": 2,
       "version_minor": 0
      },
      "text/plain": [
       "Training: |          | 0/? [00:00<?, ?it/s]"
      ]
     },
     "metadata": {},
     "output_type": "display_data"
    },
    {
     "name": "stderr",
     "output_type": "stream",
     "text": [
      "`Trainer.fit` stopped: `max_epochs=10` reached.\n"
     ]
    }
   ],
   "source": [
    "color = True\n",
    "domain_randomize = True\n",
    "img_size = (50,50)\n",
    "device = \"mps\"\n",
    "\n",
    "color_str = 'color' if color else 'bw'\n",
    "img_dir = f\"/tmp/car_imgs_{color_str}_{img_size[0]}x{img_size[1]}\"\n",
    "if not os.path.isdir(img_dir):\n",
    "    generate_vae_images(img_dir, 200, 300, img_size, grayscale=not color)\n",
    "\n",
    "print(f\"Training VAE with {len(os.listdir(img_dir))} images\")\n",
    "\n",
    "channels = 3 if color else 1\n",
    "loader = rl_loaders.image_dataloader(img_dir)\n",
    "vae_model = VAEModule2D(img_size[0], img_size[1], channels, 100, 50).to(\"mps\")\n",
    "vae_trainer = lightning.Trainer(max_epochs = 10)\n",
    "vae_trainer.fit(model=vae_model, train_dataloaders=loader)"
   ]
  },
  {
   "cell_type": "code",
   "execution_count": 181,
   "metadata": {},
   "outputs": [
    {
     "name": "stdout",
     "output_type": "stream",
     "text": [
      "tensor(0.0058, device='mps:0', grad_fn=<MseLossBackward0>)\n"
     ]
    },
    {
     "data": {
      "text/plain": [
       "<matplotlib.image.AxesImage at 0x331ce2410>"
      ]
     },
     "execution_count": 181,
     "metadata": {},
     "output_type": "execute_result"
    },
    {
     "data": {
      "image/png": "[encoded data removed]",
      "text/plain": [
       "<Figure size 640x480 with 2 Axes>"
      ]
     },
     "metadata": {},
     "output_type": "display_data"
    }
   ],
   "source": [
    "imglen = len(os.listdir(img_dir))\n",
    "img_name = f\"img{random.randint(0, imglen)}.png\"\n",
    "img = Image.open(os.path.join(img_dir, img_name))\n",
    "imgt = ttf.pil_to_tensor(img).to(device).unsqueeze(0).float() / 255\n",
    "imgt = imgt.to(\"mps\")\n",
    "vae_model.model.to(\"mps\")\n",
    "res, kl = vae_model.model(imgt)\n",
    "print(torch.nn.functional.mse_loss(imgt, res))\n",
    "res = res.squeeze(0).detach().cpu()\n",
    "fig, axes = plt.subplots(1,2)\n",
    "axes[0].imshow(img)\n",
    "axes[1].imshow(ttf.to_pil_image(res))"
   ]
  },
  {
   "cell_type": "code",
   "execution_count": null,
   "metadata": {},
   "outputs": [],
   "source": []
  },
  {
   "cell_type": "code",
   "execution_count": null,
   "metadata": {},
   "outputs": [],
   "source": []
  }
 ],
 "metadata": {
  "kernelspec": {
   "display_name": "env",
   "language": "python",
   "name": "python3"
  },
  "language_info": {
   "codemirror_mode": {
    "name": "ipython",
    "version": 3
   },
   "file_extension": ".py",
   "mimetype": "text/x-python",
   "name": "python",
   "nbconvert_exporter": "python",
   "pygments_lexer": "ipython3",
   "version": "3.11.4"
  }
 },
 "nbformat": 4,
 "nbformat_minor": 2
}
