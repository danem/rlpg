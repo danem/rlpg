{
 "cells": [
  {
   "cell_type": "code",
   "execution_count": 1,
   "metadata": {},
   "outputs": [],
   "source": [
    "%load_ext autoreload\n",
    "%autoreload 2\n",
    "\n",
    "import rlpg.envs.cars as cars\n",
    "import rlpg.envs.types as rl_envs\n",
    "import rlpg.loaders as rl_loaders\n",
    "import rlpg.trainers.vae_trainer as vae_trainer\n",
    "\n",
    "import torchvision.transforms.functional as ttf\n",
    "\n",
    "import os\n",
    "import matplotlib.pyplot as plt\n",
    "import torch.utils.tensorboard\n",
    "import random\n",
    "import lightning\n",
    "from PIL import Image"
   ]
  },
  {
   "cell_type": "code",
   "execution_count": 2,
   "metadata": {},
   "outputs": [
    {
     "name": "stderr",
     "output_type": "stream",
     "text": [
      "100%|██████████| 200/200 [06:44<00:00,  2.02s/it]\n",
      "GPU available: True (mps), used: True\n",
      "TPU available: False, using: 0 TPU cores\n",
      "IPU available: False, using: 0 IPUs\n",
      "HPU available: False, using: 0 HPUs\n",
      "\n",
      "  | Name  | Type                     | Params\n",
      "---------------------------------------------------\n",
      "0 | model | VariationalAutoencoder2D | 1.3 M \n",
      "---------------------------------------------------\n",
      "1.3 M     Trainable params\n",
      "0         Non-trainable params\n",
      "1.3 M     Total params\n",
      "5.093     Total estimated model params size (MB)\n"
     ]
    },
    {
     "name": "stdout",
     "output_type": "stream",
     "text": [
      "Training VAE with 53883 images\n"
     ]
    },
    {
     "name": "stderr",
     "output_type": "stream",
     "text": [
      "/Users/danem/Programming/python/rl-pg2/env/lib/python3.11/site-packages/lightning/pytorch/trainer/connectors/data_connector.py:436: Consider setting `persistent_workers=True` in 'train_dataloader' to speed up the dataloader worker initialization.\n"
     ]
    },
    {
     "data": {
      "application/vnd.jupyter.widget-view+json": {
       "model_id": "998aad4186c64f959879f3bbda003648",
       "version_major": 2,
       "version_minor": 0
      },
      "text/plain": [
       "Training: |          | 0/? [00:00<?, ?it/s]"
      ]
     },
     "metadata": {},
     "output_type": "display_data"
    },
    {
     "name": "stderr",
     "output_type": "stream",
     "text": [
      "`Trainer.fit` stopped: `max_epochs=10` reached.\n"
     ]
    }
   ],
   "source": [
    "hparams = cars.CarHParams(\n",
    "    color=True,\n",
    "    randomize_colors=False,\n",
    "    include_bar=False,\n",
    "    vae_generation_drive_aggression=5,\n",
    "    device = \"mps\"\n",
    ")\n",
    "\n",
    "if not hparams.include_bar:\n",
    "    hparams.render_opts = rl_envs.RenderOptions(hparams.render_opts.size, color=hparams.color, crop_size=(1,0.87))\n",
    "\n",
    "env, _ = cars.car_vae_generator(hparams)\n",
    "img_dir = vae_trainer.generate_vae_images(env, \"/tmp\", 200, 300, hparams.render_opts, hparams = hparams)\n",
    "render_opts = vae_trainer.get_vae_render_options(img_dir)\n",
    "\n",
    "print(f\"Training VAE with {len(os.listdir(img_dir))} images\")\n",
    "\n",
    "channels = 3 if hparams.color else 1\n",
    "loader = rl_loaders.image_dataloader(img_dir)\n",
    "vae_model = vae_trainer.VAEModule2D(hparams.render_opts.size[0], hparams.render_opts.size[1], channels, 100, 50, hparams).to(hparams.device)\n",
    "trainer = lightning.Trainer(max_epochs = 10)\n",
    "trainer.fit(model=vae_model, train_dataloaders=loader)"
   ]
  },
  {
   "cell_type": "code",
   "execution_count": 7,
   "metadata": {},
   "outputs": [
    {
     "name": "stdout",
     "output_type": "stream",
     "text": [
      "tensor(0.0015, device='mps:0', grad_fn=<MseLossBackward0>)\n"
     ]
    },
    {
     "data": {
      "text/plain": [
       "<matplotlib.image.AxesImage at 0x1696dc910>"
      ]
     },
     "execution_count": 7,
     "metadata": {},
     "output_type": "execute_result"
    },
    {
     "data": {
      "image/png": "[encoded data removed]",
      "text/plain": [
       "<Figure size 640x480 with 2 Axes>"
      ]
     },
     "metadata": {},
     "output_type": "display_data"
    }
   ],
   "source": [
    "imglen = len(os.listdir(img_dir))\n",
    "img_name = f\"img{random.randint(0, imglen)}.png\"\n",
    "img = Image.open(os.path.join(img_dir, img_name))\n",
    "imgt = ttf.pil_to_tensor(img).to(hparams.device).unsqueeze(0).float() / 255\n",
    "imgt = imgt.to(\"mps\")\n",
    "vae_model.model.to(\"mps\")\n",
    "res, kl = vae_model.model(imgt)\n",
    "print(torch.nn.functional.mse_loss(imgt, res))\n",
    "res = res.squeeze(0).detach().cpu()\n",
    "fig, axes = plt.subplots(1,2)\n",
    "axes[0].imshow(img)\n",
    "axes[1].imshow(ttf.to_pil_image(res))"
   ]
  }
 ],
 "metadata": {
  "kernelspec": {
   "display_name": "env",
   "language": "python",
   "name": "python3"
  },
  "language_info": {
   "codemirror_mode": {
    "name": "ipython",
    "version": 3
   },
   "file_extension": ".py",
   "mimetype": "text/x-python",
   "name": "python",
   "nbconvert_exporter": "python",
   "pygments_lexer": "ipython3",
   "version": "3.11.4"
  }
 },
 "nbformat": 4,
 "nbformat_minor": 2
}
