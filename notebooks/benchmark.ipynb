{
 "cells": [
  {
   "cell_type": "code",
   "execution_count": 2,
   "metadata": {},
   "outputs": [],
   "source": [
    "import rlpg.rl_memory as rl_memory\n",
    "import tqdm\n",
    "import random\n",
    "import torch\n",
    "import numpy as np"
   ]
  },
  {
   "cell_type": "code",
   "execution_count": 3,
   "metadata": {},
   "outputs": [
    {
     "name": "stderr",
     "output_type": "stream",
     "text": [
      "100%|██████████| 10/10 [00:00<00:00, 185.44it/s]\n",
      "100%|██████████| 10/10 [00:00<00:00, 22.22it/s]\n",
      "100%|██████████| 10/10 [00:00<00:00, 226.47it/s]\n",
      "100%|██████████| 10/10 [00:00<00:00, 1062.68it/s]\n"
     ]
    },
    {
     "name": "stdout",
     "output_type": "stream",
     "text": [
      "------------\n"
     ]
    },
    {
     "name": "stderr",
     "output_type": "stream",
     "text": [
      "100%|██████████| 10/10 [00:00<00:00, 19.02it/s]\n",
      "100%|██████████| 10/10 [00:00<00:00, 12.84it/s]\n",
      "100%|██████████| 10/10 [00:00<00:00, 236.88it/s]\n",
      "100%|██████████| 10/10 [00:00<00:00, 1261.52it/s]\n"
     ]
    }
   ],
   "source": [
    "buf_size = 10_000\n",
    "# Writing\n",
    "buf1 = np.zeros((buf_size,))\n",
    "mem1 = rl_memory.CircularBuffer(buf_size)\n",
    "for i in tqdm.tqdm(range(10)):\n",
    "    for j in range(20_000):\n",
    "        idx = mem1.get_push_idx()\n",
    "        buf1[idx] = j\n",
    "\n",
    "buf2 = torch.zeros((buf_size,), requires_grad=False) \n",
    "mem2 = rl_memory.CircularBuffer(buf_size)\n",
    "for i in tqdm.tqdm(range(10)):\n",
    "    for j in range(20_000):\n",
    "        idx = mem2.get_push_idx()\n",
    "        buf2[idx] = j\n",
    "\n",
    "buf3 = [0] * buf_size\n",
    "mem3 = rl_memory.CircularBuffer(buf_size)\n",
    "for i in tqdm.tqdm(range(10)):\n",
    "    for j in range(20_000):\n",
    "        idx = mem3.get_push_idx()\n",
    "        buf3[idx] = j\n",
    "\n",
    "buf4 = []\n",
    "for i in tqdm.tqdm(range(10)):\n",
    "    for j in range(20_000):\n",
    "        buf4.append(j)\n",
    "\n",
    "print(\"------------\")\n",
    "\n",
    "# Writing 2\n",
    "buf1 = np.zeros((10_000,3,50,50))\n",
    "data = np.zeros((3,50,50))\n",
    "mem1 = rl_memory.CircularBuffer(buf_size)\n",
    "for i in tqdm.tqdm(range(10)):\n",
    "    for j in range(20_000):\n",
    "        idx = mem1.get_push_idx()\n",
    "        buf1[idx] = data\n",
    "\n",
    "buf2 = torch.zeros((10_000,3,50,50), requires_grad=False) \n",
    "mem2 = rl_memory.CircularBuffer(buf_size)\n",
    "for i in tqdm.tqdm(range(10)):\n",
    "    for j in range(20_000):\n",
    "        idx = mem2.get_push_idx()\n",
    "        buf2[idx] = torch.from_numpy(data)\n",
    "\n",
    "buf3 = [0] * buf_size\n",
    "mem3 = rl_memory.CircularBuffer(buf_size)\n",
    "for i in tqdm.tqdm(range(10)):\n",
    "    for j in range(20_000):\n",
    "        idx = mem3.get_push_idx()\n",
    "        buf3[idx] = data\n",
    "\n",
    "buf4 = []\n",
    "for i in tqdm.tqdm(range(10)):\n",
    "    for j in range(20_000):\n",
    "        buf4.append(data)\n",
    "\n"
   ]
  },
  {
   "cell_type": "code",
   "execution_count": 3,
   "metadata": {},
   "outputs": [
    {
     "name": "stderr",
     "output_type": "stream",
     "text": [
      "100%|██████████| 10000/10000 [00:00<00:00, 20906.65it/s]\n",
      "100%|██████████| 10000/10000 [00:00<00:00, 27045.65it/s]\n",
      "100%|██████████| 10000/10000 [00:00<00:00, 53505.94it/s]\n",
      "100%|██████████| 10000/10000 [00:00<00:00, 129890.81it/s]\n"
     ]
    }
   ],
   "source": [
    "# Acessing\n",
    "for i in tqdm.tqdm(range(10_000)):\n",
    "    idxs = mem1.sample_idxs(128)\n",
    "    buf1[idxs]\n",
    "\n",
    "for i in tqdm.tqdm(range(10_000)):\n",
    "    idxs = mem2.sample_idxs(128)\n",
    "    buf2[idxs]\n",
    "\n",
    "for i in tqdm.tqdm(range(10_000)):\n",
    "    random.choices(buf4, k=128)\n",
    "\n",
    "for i in tqdm.tqdm(range(10_000)):\n",
    "    random.choices(buf3, k=128)\n",
    "\n",
    "\n"
   ]
  },
  {
   "cell_type": "code",
   "execution_count": 4,
   "metadata": {},
   "outputs": [
    {
     "name": "stderr",
     "output_type": "stream",
     "text": [
      "100%|██████████| 10000/10000 [00:00<00:00, 716399.47it/s]\n",
      "  0%|          | 0/10000 [00:00<?, ?it/s]/var/folders/4s/3fzt_vzd12b_22tnj_j6vw7w0000gn/T/ipykernel_78704/2796901395.py:6: UserWarning: To copy construct from a tensor, it is recommended to use sourceTensor.clone().detach() or sourceTensor.clone().detach().requires_grad_(True), rather than torch.tensor(sourceTensor).\n",
      "  torch.tensor(buf2, requires_grad=False)\n",
      "100%|██████████| 10000/10000 [03:59<00:00, 41.78it/s]\n",
      "  0%|          | 0/10000 [00:00<?, ?it/s]\n"
     ]
    },
    {
     "ename": "TypeError",
     "evalue": "new() received an invalid combination of arguments - got (list, requires_grad=bool), but expected one of:\n * (*, torch.device device)\n      didn't match because some of the keywords were incorrect: requires_grad\n * (torch.Storage storage)\n * (Tensor other)\n * (tuple of ints size, *, torch.device device)\n * (object data, *, torch.device device)\n",
     "output_type": "error",
     "traceback": [
      "\u001b[0;31m---------------------------------------------------------------------------\u001b[0m",
      "\u001b[0;31mTypeError\u001b[0m                                 Traceback (most recent call last)",
      "Cell \u001b[0;32mIn[4], line 9\u001b[0m\n\u001b[1;32m      6\u001b[0m     torch\u001b[38;5;241m.\u001b[39mtensor(buf2, requires_grad\u001b[38;5;241m=\u001b[39m\u001b[38;5;28;01mFalse\u001b[39;00m)\n\u001b[1;32m      8\u001b[0m \u001b[38;5;28;01mfor\u001b[39;00m i \u001b[38;5;129;01min\u001b[39;00m tqdm\u001b[38;5;241m.\u001b[39mtqdm(\u001b[38;5;28mrange\u001b[39m(\u001b[38;5;241m10_000\u001b[39m)):\n\u001b[0;32m----> 9\u001b[0m     \u001b[43mtorch\u001b[49m\u001b[38;5;241;43m.\u001b[39;49m\u001b[43mFloatTensor\u001b[49m\u001b[43m(\u001b[49m\u001b[43mbuf3\u001b[49m\u001b[43m,\u001b[49m\u001b[43m \u001b[49m\u001b[43mrequires_grad\u001b[49m\u001b[38;5;241;43m=\u001b[39;49m\u001b[38;5;28;43;01mFalse\u001b[39;49;00m\u001b[43m)\u001b[49m\n\u001b[1;32m     11\u001b[0m \u001b[38;5;28;01mfor\u001b[39;00m i \u001b[38;5;129;01min\u001b[39;00m tqdm\u001b[38;5;241m.\u001b[39mtqdm(\u001b[38;5;28mrange\u001b[39m(\u001b[38;5;241m10_000\u001b[39m)):\n\u001b[1;32m     12\u001b[0m     torch\u001b[38;5;241m.\u001b[39mFloatTensor(buf4, requires_grad\u001b[38;5;241m=\u001b[39m\u001b[38;5;28;01mFalse\u001b[39;00m)\n",
      "\u001b[0;31mTypeError\u001b[0m: new() received an invalid combination of arguments - got (list, requires_grad=bool), but expected one of:\n * (*, torch.device device)\n      didn't match because some of the keywords were incorrect: requires_grad\n * (torch.Storage storage)\n * (Tensor other)\n * (tuple of ints size, *, torch.device device)\n * (object data, *, torch.device device)\n"
     ]
    }
   ],
   "source": [
    "# to torch\n",
    "for i in tqdm.tqdm(range(10_000)):\n",
    "    torch.from_numpy(buf1).requires_grad_(False)\n",
    "\n",
    "for i in tqdm.tqdm(range(10_000)):\n",
    "    torch.tensor(buf2, requires_grad=False)\n",
    "\n",
    "for i in tqdm.tqdm(range(10_000)):\n",
    "    torch.FloatTensor(buf3, requires_grad=False)\n",
    "\n",
    "for i in tqdm.tqdm(range(10_000)):\n",
    "    torch.FloatTensor(buf4, requires_grad=False)\n",
    "\n",
    "    "
   ]
  },
  {
   "cell_type": "code",
   "execution_count": 7,
   "metadata": {},
   "outputs": [
    {
     "name": "stdout",
     "output_type": "stream",
     "text": [
      "\u001b[0;31mDocstring:\u001b[0m\n",
      "index_add_(dim, index, source, *, alpha=1) -> Tensor\n",
      "\n",
      "Accumulate the elements of :attr:`alpha` times ``source`` into the :attr:`self`\n",
      "tensor by adding to the indices in the order given in :attr:`index`. For example,\n",
      "if ``dim == 0``, ``index[i] == j``, and ``alpha=-1``, then the ``i``\\ th row of\n",
      "``source`` is subtracted from the ``j``\\ th row of :attr:`self`.\n",
      "\n",
      "The :attr:`dim`\\ th dimension of ``source`` must have the same size as the\n",
      "length of :attr:`index` (which must be a vector), and all other dimensions must\n",
      "match :attr:`self`, or an error will be raised.\n",
      "\n",
      "For a 3-D tensor the output is given as::\n",
      "\n",
      "    self[index[i], :, :] += alpha * src[i, :, :]  # if dim == 0\n",
      "    self[:, index[i], :] += alpha * src[:, i, :]  # if dim == 1\n",
      "    self[:, :, index[i]] += alpha * src[:, :, i]  # if dim == 2\n",
      "\n",
      "Note:\n",
      "    This operation may behave nondeterministically when given tensors on a CUDA device. See :doc:`/notes/randomness` for more information.\n",
      "\n",
      "Args:\n",
      "    dim (int): dimension along which to index\n",
      "    index (Tensor): indices of ``source`` to select from,\n",
      "            should have dtype either `torch.int64` or `torch.int32`\n",
      "    source (Tensor): the tensor containing values to add\n",
      "\n",
      "Keyword args:\n",
      "    alpha (Number): the scalar multiplier for ``source``\n",
      "\n",
      "Example::\n",
      "\n",
      "    >>> x = torch.ones(5, 3)\n",
      "    >>> t = torch.tensor([[1, 2, 3], [4, 5, 6], [7, 8, 9]], dtype=torch.float)\n",
      "    >>> index = torch.tensor([0, 4, 2])\n",
      "    >>> x.index_add_(0, index, t)\n",
      "    tensor([[  2.,   3.,   4.],\n",
      "            [  1.,   1.,   1.],\n",
      "            [  8.,   9.,  10.],\n",
      "            [  1.,   1.,   1.],\n",
      "            [  5.,   6.,   7.]])\n",
      "    >>> x.index_add_(0, index, t, alpha=-1)\n",
      "    tensor([[  1.,   1.,   1.],\n",
      "            [  1.,   1.,   1.],\n",
      "            [  1.,   1.,   1.],\n",
      "            [  1.,   1.,   1.],\n",
      "            [  1.,   1.,   1.]])\n",
      "\u001b[0;31mType:\u001b[0m      builtin_function_or_method"
     ]
    }
   ],
   "source": [
    "buf2.index_add_?"
   ]
  }
 ],
 "metadata": {
  "kernelspec": {
   "display_name": "env",
   "language": "python",
   "name": "python3"
  },
  "language_info": {
   "codemirror_mode": {
    "name": "ipython",
    "version": 3
   },
   "file_extension": ".py",
   "mimetype": "text/x-python",
   "name": "python",
   "nbconvert_exporter": "python",
   "pygments_lexer": "ipython3",
   "version": "3.11.4"
  }
 },
 "nbformat": 4,
 "nbformat_minor": 2
}
