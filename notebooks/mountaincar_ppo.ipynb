{
 "cells": [
  {
   "cell_type": "code",
   "execution_count": 1,
   "metadata": {},
   "outputs": [],
   "source": [
    "%load_ext autoreload\n",
    "%autoreload 2\n",
    "\n",
    "import rlpg.models.actor_critic as ac\n",
    "import rlpg.trainers.ppo_trainer as ppo\n",
    "import rlpg.envs.types as rl_envs\n",
    "\n",
    "import gymnasium as gym\n",
    "import torchvision.transforms.functional as ttf\n",
    "import einops\n",
    "import matplotlib.pyplot as plt\n",
    "import torch.utils.tensorboard\n",
    "import numpy as np\n",
    "import utils"
   ]
  },
  {
   "cell_type": "code",
   "execution_count": 9,
   "metadata": {},
   "outputs": [
    {
     "name": "stderr",
     "output_type": "stream",
     "text": [
      "  3%|▎         | 283/10000 [05:48<3:19:20,  1.23s/it]\n"
     ]
    },
    {
     "ename": "KeyboardInterrupt",
     "evalue": "",
     "output_type": "error",
     "traceback": [
      "\u001b[0;31m---------------------------------------------------------------------------\u001b[0m",
      "\u001b[0;31mKeyboardInterrupt\u001b[0m                         Traceback (most recent call last)",
      "Cell \u001b[0;32mIn[9], line 19\u001b[0m\n\u001b[1;32m      4\u001b[0m params \u001b[38;5;241m=\u001b[39m ppo\u001b[38;5;241m.\u001b[39mPPOHParams(\n\u001b[1;32m      5\u001b[0m     actor_lr\u001b[38;5;241m=\u001b[39m\u001b[38;5;241m1e-5\u001b[39m,\n\u001b[1;32m      6\u001b[0m     critic_lr\u001b[38;5;241m=\u001b[39m\u001b[38;5;241m1e-5\u001b[39m,\n\u001b[1;32m      7\u001b[0m     max_episode_steps\u001b[38;5;241m=\u001b[39m\u001b[38;5;241m1_000\u001b[39m\n\u001b[1;32m      8\u001b[0m )\n\u001b[1;32m      9\u001b[0m tstate \u001b[38;5;241m=\u001b[39m ppo\u001b[38;5;241m.\u001b[39mmake_train_state_continuous(\n\u001b[1;32m     10\u001b[0m     env, \n\u001b[1;32m     11\u001b[0m     reval,\n\u001b[0;32m   (...)\u001b[0m\n\u001b[1;32m     17\u001b[0m     log_dir\u001b[38;5;241m=\u001b[39m\u001b[38;5;124m\"\u001b[39m\u001b[38;5;124m./logs\u001b[39m\u001b[38;5;124m\"\u001b[39m\n\u001b[1;32m     18\u001b[0m )\n\u001b[0;32m---> 19\u001b[0m \u001b[43mppo\u001b[49m\u001b[38;5;241;43m.\u001b[39;49m\u001b[43mtrain\u001b[49m\u001b[43m(\u001b[49m\u001b[43mtstate\u001b[49m\u001b[43m,\u001b[49m\u001b[43m \u001b[49m\u001b[38;5;241;43m10_000\u001b[39;49m\u001b[43m)\u001b[49m\n",
      "File \u001b[0;32m~/Programming/python/rl-pg2/rlpg/trainers/ppo_trainer.py:249\u001b[0m, in \u001b[0;36mtrain\u001b[0;34m(tstate, episodes)\u001b[0m\n\u001b[1;32m    247\u001b[0m stats \u001b[38;5;241m=\u001b[39m collections\u001b[38;5;241m.\u001b[39mdefaultdict(\u001b[38;5;28mlist\u001b[39m)\n\u001b[1;32m    248\u001b[0m \u001b[38;5;28;01mfor\u001b[39;00m ep \u001b[38;5;129;01min\u001b[39;00m tqdm\u001b[38;5;241m.\u001b[39mtqdm(\u001b[38;5;28mrange\u001b[39m(episodes)):\n\u001b[0;32m--> 249\u001b[0m     reward, steps \u001b[38;5;241m=\u001b[39m \u001b[43mgenerate_episode\u001b[49m\u001b[43m(\u001b[49m\u001b[43mtstate\u001b[49m\u001b[43m,\u001b[49m\u001b[43m \u001b[49m\u001b[43mmax_steps\u001b[49m\u001b[38;5;241;43m=\u001b[39;49m\u001b[43mtstate\u001b[49m\u001b[38;5;241;43m.\u001b[39;49m\u001b[43mhparams\u001b[49m\u001b[38;5;241;43m.\u001b[39;49m\u001b[43mmax_episode_steps\u001b[49m\u001b[43m)\u001b[49m\n\u001b[1;32m    250\u001b[0m     stats[\u001b[38;5;124m\"\u001b[39m\u001b[38;5;124mepisode_durations\u001b[39m\u001b[38;5;124m\"\u001b[39m]\u001b[38;5;241m.\u001b[39mappend(steps)\n\u001b[1;32m    251\u001b[0m     stats[\u001b[38;5;124m\"\u001b[39m\u001b[38;5;124mepisode_scores\u001b[39m\u001b[38;5;124m\"\u001b[39m]\u001b[38;5;241m.\u001b[39mappend(reward)\n",
      "File \u001b[0;32m~/Programming/python/rl-pg2/rlpg/trainers/ppo_trainer.py:227\u001b[0m, in \u001b[0;36mgenerate_episode\u001b[0;34m(tstate, episodes, max_steps)\u001b[0m\n\u001b[1;32m    225\u001b[0m \u001b[38;5;28;01mfor\u001b[39;00m step \u001b[38;5;129;01min\u001b[39;00m itertools\u001b[38;5;241m.\u001b[39mcount():\n\u001b[1;32m    226\u001b[0m     state \u001b[38;5;241m=\u001b[39m torch\u001b[38;5;241m.\u001b[39mtensor(state)\u001b[38;5;241m.\u001b[39mto(tstate\u001b[38;5;241m.\u001b[39mdevice)\n\u001b[0;32m--> 227\u001b[0m     action, logprobs, qvals \u001b[38;5;241m=\u001b[39m \u001b[43msample_action\u001b[49m\u001b[43m(\u001b[49m\u001b[43mtstate\u001b[49m\u001b[43m,\u001b[49m\u001b[43m \u001b[49m\u001b[43mstate\u001b[49m\u001b[43m)\u001b[49m\n\u001b[1;32m    228\u001b[0m     action_cpu \u001b[38;5;241m=\u001b[39m action\u001b[38;5;241m.\u001b[39mdetach()\u001b[38;5;241m.\u001b[39mcpu()\u001b[38;5;241m.\u001b[39mnumpy()\n\u001b[1;32m    229\u001b[0m     new_state, reward, terminated, truncated, _ \u001b[38;5;241m=\u001b[39m tstate\u001b[38;5;241m.\u001b[39menv\u001b[38;5;241m.\u001b[39mstep(action_cpu)\n",
      "File \u001b[0;32m~/Programming/python/rl-pg2/rlpg/trainers/ppo_trainer.py:141\u001b[0m, in \u001b[0;36msample_action\u001b[0;34m(tstate, state)\u001b[0m\n\u001b[1;32m    139\u001b[0m \u001b[38;5;28;01mwith\u001b[39;00m torch\u001b[38;5;241m.\u001b[39mno_grad():\n\u001b[1;32m    140\u001b[0m     params \u001b[38;5;241m=\u001b[39m tstate\u001b[38;5;241m.\u001b[39mactor(state\u001b[38;5;241m.\u001b[39munsqueeze(\u001b[38;5;241m0\u001b[39m))\n\u001b[0;32m--> 141\u001b[0m     action, log_prob \u001b[38;5;241m=\u001b[39m \u001b[43mtstate\u001b[49m\u001b[38;5;241;43m.\u001b[39;49m\u001b[43mactor\u001b[49m\u001b[38;5;241;43m.\u001b[39;49m\u001b[43msample\u001b[49m\u001b[43m(\u001b[49m\u001b[43mparams\u001b[49m\u001b[43m)\u001b[49m\n\u001b[1;32m    142\u001b[0m     qval \u001b[38;5;241m=\u001b[39m tstate\u001b[38;5;241m.\u001b[39mcritic(state, action)\n\u001b[1;32m    143\u001b[0m     action \u001b[38;5;241m=\u001b[39m action\u001b[38;5;241m.\u001b[39msqueeze(\u001b[38;5;241m0\u001b[39m)\n",
      "File \u001b[0;32m~/Programming/python/rl-pg2/rlpg/models/actor_critic.py:55\u001b[0m, in \u001b[0;36mActorModelContinuous.sample\u001b[0;34m(self, params)\u001b[0m\n\u001b[1;32m     53\u001b[0m dist \u001b[38;5;241m=\u001b[39m \u001b[38;5;28mself\u001b[39m\u001b[38;5;241m.\u001b[39mdistribution(params)\n\u001b[1;32m     54\u001b[0m action \u001b[38;5;241m=\u001b[39m dist\u001b[38;5;241m.\u001b[39msample()\n\u001b[0;32m---> 55\u001b[0m \u001b[38;5;28;01mreturn\u001b[39;00m action, \u001b[43mdist\u001b[49m\u001b[38;5;241;43m.\u001b[39;49m\u001b[43mlog_prob\u001b[49m\u001b[43m(\u001b[49m\u001b[43maction\u001b[49m\u001b[43m)\u001b[49m\n",
      "File \u001b[0;32m~/Programming/python/rl-pg2/env/lib/python3.11/site-packages/torch/distributions/normal.py:86\u001b[0m, in \u001b[0;36mNormal.log_prob\u001b[0;34m(self, value)\u001b[0m\n\u001b[1;32m     81\u001b[0m var \u001b[38;5;241m=\u001b[39m \u001b[38;5;28mself\u001b[39m\u001b[38;5;241m.\u001b[39mscale\u001b[38;5;241m*\u001b[39m\u001b[38;5;241m*\u001b[39m\u001b[38;5;241m2\u001b[39m\n\u001b[1;32m     82\u001b[0m log_scale \u001b[38;5;241m=\u001b[39m (\n\u001b[1;32m     83\u001b[0m     math\u001b[38;5;241m.\u001b[39mlog(\u001b[38;5;28mself\u001b[39m\u001b[38;5;241m.\u001b[39mscale) \u001b[38;5;28;01mif\u001b[39;00m \u001b[38;5;28misinstance\u001b[39m(\u001b[38;5;28mself\u001b[39m\u001b[38;5;241m.\u001b[39mscale, Real) \u001b[38;5;28;01melse\u001b[39;00m \u001b[38;5;28mself\u001b[39m\u001b[38;5;241m.\u001b[39mscale\u001b[38;5;241m.\u001b[39mlog()\n\u001b[1;32m     84\u001b[0m )\n\u001b[1;32m     85\u001b[0m \u001b[38;5;28;01mreturn\u001b[39;00m (\n\u001b[0;32m---> 86\u001b[0m     \u001b[38;5;241m-\u001b[39m(\u001b[43m(\u001b[49m\u001b[43mvalue\u001b[49m\u001b[43m \u001b[49m\u001b[38;5;241;43m-\u001b[39;49m\u001b[43m \u001b[49m\u001b[38;5;28;43mself\u001b[39;49m\u001b[38;5;241;43m.\u001b[39;49m\u001b[43mloc\u001b[49m\u001b[43m)\u001b[49m\u001b[43m \u001b[49m\u001b[38;5;241;43m*\u001b[39;49m\u001b[38;5;241;43m*\u001b[39;49m\u001b[43m \u001b[49m\u001b[38;5;241;43m2\u001b[39;49m) \u001b[38;5;241m/\u001b[39m (\u001b[38;5;241m2\u001b[39m \u001b[38;5;241m*\u001b[39m var)\n\u001b[1;32m     87\u001b[0m     \u001b[38;5;241m-\u001b[39m log_scale\n\u001b[1;32m     88\u001b[0m     \u001b[38;5;241m-\u001b[39m math\u001b[38;5;241m.\u001b[39mlog(math\u001b[38;5;241m.\u001b[39msqrt(\u001b[38;5;241m2\u001b[39m \u001b[38;5;241m*\u001b[39m math\u001b[38;5;241m.\u001b[39mpi))\n\u001b[1;32m     89\u001b[0m )\n",
      "File \u001b[0;32m~/Programming/python/rl-pg2/env/lib/python3.11/site-packages/torch/_tensor.py:40\u001b[0m, in \u001b[0;36m_handle_torch_function_and_wrap_type_error_to_not_implemented.<locals>.wrapped\u001b[0;34m(*args, **kwargs)\u001b[0m\n\u001b[1;32m     38\u001b[0m     \u001b[38;5;28;01mif\u001b[39;00m has_torch_function(args):\n\u001b[1;32m     39\u001b[0m         \u001b[38;5;28;01mreturn\u001b[39;00m handle_torch_function(wrapped, args, \u001b[38;5;241m*\u001b[39margs, \u001b[38;5;241m*\u001b[39m\u001b[38;5;241m*\u001b[39mkwargs)\n\u001b[0;32m---> 40\u001b[0m     \u001b[38;5;28;01mreturn\u001b[39;00m \u001b[43mf\u001b[49m\u001b[43m(\u001b[49m\u001b[38;5;241;43m*\u001b[39;49m\u001b[43margs\u001b[49m\u001b[43m,\u001b[49m\u001b[43m \u001b[49m\u001b[38;5;241;43m*\u001b[39;49m\u001b[38;5;241;43m*\u001b[39;49m\u001b[43mkwargs\u001b[49m\u001b[43m)\u001b[49m\n\u001b[1;32m     41\u001b[0m \u001b[38;5;28;01mexcept\u001b[39;00m \u001b[38;5;167;01mTypeError\u001b[39;00m:\n\u001b[1;32m     42\u001b[0m     \u001b[38;5;28;01mreturn\u001b[39;00m \u001b[38;5;28mNotImplemented\u001b[39m\n",
      "\u001b[0;31mKeyboardInterrupt\u001b[0m: "
     ]
    }
   ],
   "source": [
    "env = gym.make('MountainCarContinuous-v0', render_mode=\"rgb_array\")\n",
    "reval = rl_envs.RewardEvaluator(env)\n",
    "actor_model, critic_model = ac.init_actor_critic_continuous(2,1)\n",
    "params = ppo.PPOHParams(\n",
    "    actor_lr=1e-3,\n",
    "    critic_lr=1e-3,\n",
    "    max_episode_steps=1_000\n",
    ")\n",
    "tstate = ppo.make_train_state_continuous(\n",
    "    env, \n",
    "    reval,\n",
    "    actor_model=actor_model,\n",
    "    critic_model=critic_model,\n",
    "    observation_size=2,\n",
    "    action_space=1,\n",
    "    hparams=params,\n",
    "    log_dir=\"./logs\"\n",
    ")\n",
    "ppo.train(tstate, 10_000)"
   ]
  },
  {
   "cell_type": "code",
   "execution_count": 8,
   "metadata": {},
   "outputs": [
    {
     "data": {
      "application/vnd.jupyter.widget-view+json": {
       "model_id": "16b722c34b564f53be9c4b639cb04d89",
       "version_major": 2,
       "version_minor": 0
      },
      "text/plain": [
       "interactive(children=(IntSlider(value=0, description='idx', max=1001), Output()), _dom_classes=('widget-intera…"
      ]
     },
     "metadata": {},
     "output_type": "display_data"
    }
   ],
   "source": [
    "env = gym.make('MountainCarContinuous-v0', render_mode=\"rgb_array\")\n",
    "tstate.env = env\n",
    "imgs = ppo.evaluate(tstate, 1000)\n",
    "utils.slider(plt.imshow)(imgs)"
   ]
  }
 ],
 "metadata": {
  "kernelspec": {
   "display_name": "env",
   "language": "python",
   "name": "python3"
  },
  "language_info": {
   "codemirror_mode": {
    "name": "ipython",
    "version": 3
   },
   "file_extension": ".py",
   "mimetype": "text/x-python",
   "name": "python",
   "nbconvert_exporter": "python",
   "pygments_lexer": "ipython3",
   "version": "3.11.4"
  }
 },
 "nbformat": 4,
 "nbformat_minor": 2
}
