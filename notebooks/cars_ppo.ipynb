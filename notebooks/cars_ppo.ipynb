{
 "cells": [
  {
   "cell_type": "code",
   "execution_count": 1,
   "metadata": {},
   "outputs": [],
   "source": [
    "%load_ext autoreload\n",
    "%autoreload 2\n",
    "\n",
    "import rlpg.envs.cars as cars\n",
    "import rlpg.trainers.vae_trainer as vae_trainer\n",
    "import rlpg.trainers.ppo_trainer as ppo\n",
    "import rlpg.models.actor_critic as ac\n",
    "import rlpg.envs.types as rl_envs\n",
    "\n",
    "import matplotlib.pyplot as plt\n",
    "import torch.utils.tensorboard\n",
    "import torchvision.transforms.functional as ttf\n",
    "import lightning_logs\n",
    "import gymnasium as gym"
   ]
  },
  {
   "cell_type": "code",
   "execution_count": 5,
   "metadata": {},
   "outputs": [
    {
     "name": "stderr",
     "output_type": "stream",
     "text": [
      "/Users/danem/Programming/python/rl-pg2/rlpg/trainers/ppo_trainer.py:209: UserWarning: To copy construct from a tensor, it is recommended to use sourceTensor.clone().detach() or sourceTensor.clone().detach().requires_grad_(True), rather than torch.tensor(sourceTensor).\n",
      "  state = torch.tensor(state).to(tstate.device)\n"
     ]
    },
    {
     "data": {
      "text/plain": [
       "(54.61895043731668, 998)"
      ]
     },
     "execution_count": 5,
     "metadata": {},
     "output_type": "execute_result"
    }
   ],
   "source": [
    "vae_model = vae_trainer.VAEModule2D.load_from_checkpoint(\"/Users/danem/Programming/python/rl-pg2/checkpoints/car_vae_50_50x50_best.ckpt\")\n",
    "vae_model.params.device = \"cpu\"\n",
    "ppo_params = ppo.PPOHParams(\n",
    "    device = vae_model.params.device\n",
    ")\n",
    "\n",
    "env, evaluator = cars.car_vae_observer(vae_model.model.encoder, hparams = vae_model.params, items=3)\n",
    "\n",
    "actor = ac.ActorModelContinuous(vae_model.latent_dims, env.action_space.shape[0])\n",
    "critic = ac.CriticModel(vae_model.latent_dims, env.action_space.shape[0])\n",
    "\n",
    "tstate = ppo.make_train_state_continuous(\n",
    "    env = env,\n",
    "    evaluator = evaluator,\n",
    "    actor_model = actor,\n",
    "    critic_model = critic,\n",
    "    observation_size = [3,vae_model.latent_dims],\n",
    "    action_space = env.action_space.shape[0],\n",
    "    hparams = ppo_params,\n",
    "    log_dir = \"./logs\"\n",
    ")\n",
    "\n",
    "# ppo.train(tstate, 10_000)\n",
    "ppo.generate_episode(tstate)\n"
   ]
  },
  {
   "cell_type": "code",
   "execution_count": null,
   "metadata": {},
   "outputs": [],
   "source": [
    "env, evaluator = cars.car_vae_observer(encoder, hparams = vae_model.params)\n",
    "env = cars.AgressiveDriving(env, 3)\n",
    "a, b = env.reset()\n",
    "for i in range(50):\n",
    "    obs, _, _, _, _ = env.step(env.action_space.sample())\n",
    "\n",
    "p = vae_model.model.decoder(obs).view(3,50,50)\n",
    "rl_envs.apply_renderopts(p, rl_envs.RenderOptions((100,100)))\n"
   ]
  },
  {
   "cell_type": "code",
   "execution_count": null,
   "metadata": {},
   "outputs": [],
   "source": [
    "images = []\n",
    "rewards = []\n",
    "crit_vals = []\n",
    "states = []\n",
    "env, _ = cars.car_vae_observer(vae_model.model.encoder, vae_model.params)\n",
    "state, _ = env.reset()\n",
    "for i in range(1000):\n",
    "    states.append(state)\n",
    "    img = vae_model.model.decoder(state).view(1,50,75)\n",
    "    images.append(ttf.to_pil_image(img))\n",
    "    action, _ = actor.sample(actor(state))\n",
    "    res = env.step(action.squeeze().tolist())\n",
    "    rewards.append(res.reward)\n",
    "    crit_vals.append(critic(state, action).item())\n",
    "    if res.terminated or res.truncated:\n",
    "        break\n",
    "\n",
    "def boo (pair):\n",
    "    fig, axs = plt.subplots(1,2)\n",
    "    axs[0].imshow(pair[0])\n",
    "    axs[0].set_title(f\"true reward: {pair[1]}, estimate: {pair[2]}\")\n",
    "\n",
    "    dist = actor.distribution(actor(pair[3]))\n",
    "    vs = dist.sample((3000,)).squeeze(1)\n",
    "    axs[1].set_xlim([-3, 3])\n",
    "    axs[1].set_ylim([-3, 3])\n",
    "    axs[1].plot(vs[:,0], vs[:,1], 'o')\n",
    "\n",
    "print(np.sum(rewards))\n",
    "utils.slider(boo)(list(zip(images, rewards, crit_vals, states)))"
   ]
  },
  {
   "cell_type": "code",
   "execution_count": 26,
   "metadata": {},
   "outputs": [],
   "source": [
    "import functools\n",
    "env = gym.make_vec(\"CarRacing-v2\", num_envs=3,)\n",
    "# env = gym.make(\"CarRacing-v2\")\n",
    "env = cars.AgressiveDriving(env, 4)\n",
    "env.reset()\n",
    "for i in range(300):\n",
    "    obs, reward, term, trunc, info = env.step(env.action_space.sample())\n",
    "    if term.any():\n",
    "        break"
   ]
  },
  {
   "cell_type": "code",
   "execution_count": 30,
   "metadata": {},
   "outputs": [
    {
     "name": "stderr",
     "output_type": "stream",
     "text": [
      "  0%|          | 0/10 [00:00<?, ?it/s]"
     ]
    },
    {
     "name": "stderr",
     "output_type": "stream",
     "text": [
      "100%|██████████| 10/10 [05:38<00:00, 33.86s/it]\n",
      "100%|██████████| 10/10 [00:00<00:00, 657.85it/s]\n"
     ]
    }
   ],
   "source": [
    "import rlpg.rl_memory as memomry\n",
    "import tqdm\n",
    "\n",
    "buf = torch.zeros((10_000,)).to(\"mps\")\n",
    "mem = memomry.CircularBuffer(10_000)\n",
    "for x in tqdm.tqdm(range(10)):\n",
    "    for i in range(10_000):\n",
    "        idx = mem.get_push_idx()\n",
    "        buf[i] = i\n",
    "\n",
    "buf = []\n",
    "for x in tqdm.tqdm(range(10)):\n",
    "    for i in range(20_000):\n",
    "        buf.append(i)\n",
    "    buf.clear()\n",
    "\n"
   ]
  },
  {
   "cell_type": "code",
   "execution_count": 7,
   "metadata": {},
   "outputs": [
    {
     "data": {
      "text/plain": [
       "torch.Size([3, 50])"
      ]
     },
     "execution_count": 7,
     "metadata": {},
     "output_type": "execute_result"
    }
   ],
   "source": [
    "tstate.memory.states[0].shape"
   ]
  }
 ],
 "metadata": {
  "kernelspec": {
   "display_name": "env",
   "language": "python",
   "name": "python3"
  },
  "language_info": {
   "codemirror_mode": {
    "name": "ipython",
    "version": 3
   },
   "file_extension": ".py",
   "mimetype": "text/x-python",
   "name": "python",
   "nbconvert_exporter": "python",
   "pygments_lexer": "ipython3",
   "version": "3.11.4"
  }
 },
 "nbformat": 4,
 "nbformat_minor": 2
}
